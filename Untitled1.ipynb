{
 "cells": [
  {
   "cell_type": "code",
   "execution_count": 1,
   "id": "c5493f72-9e66-405e-8427-6f012049896c",
   "metadata": {},
   "outputs": [],
   "source": [
    "# mnist dataset\n",
    "# has handwritten digits form 0 to 9 about 70 thousand images are provided alogn with the labels, \n",
    "# 60 thousand for training and 10 thousand for testin all the images have same size of 28 X 28."
   ]
  },
  {
   "cell_type": "markdown",
   "id": "4efdf278-75ff-4fc7-a8eb-ba4ba9cbd385",
   "metadata": {},
   "source": [
    "# Importing necessar libraries."
   ]
  },
  {
   "cell_type": "code",
   "execution_count": null,
   "id": "fc365cae-663f-4c76-b27f-302140eded56",
   "metadata": {},
   "outputs": [],
   "source": [
    "import numpy as np\n",
    "import matplotlib.pyplot as plt\n",
    "import pandas as pd\n",
    "from tensorflow import keras\n",
    "from keras.datasets import mnist\n",
    "from keras.models import Sequential\n",
    "from keras.layers import Dense\n",
    "print('Libraries imported succesfully')"
   ]
  },
  {
   "cell_type": "markdown",
   "id": "fcb3209b-6644-421d-ab49-0653058ff7a6",
   "metadata": {},
   "source": [
    "# load the mnist data set"
   ]
  },
  {
   "cell_type": "code",
   "execution_count": null,
   "id": "21a20877-c7f3-4191-a8e4-1003e5b7f093",
   "metadata": {},
   "outputs": [],
   "source": [
    "(x_train, y_train), (x_test, y_test) = mnist.load_data()\n",
    "print(x_train.shape, y_train.shape)\n",
    "print(x_test.shape, y_test.shape)"
   ]
  },
  {
   "cell_type": "markdown",
   "id": "65d8af6b-dbf0-4cfa-be13-56f302bfec37",
   "metadata": {},
   "source": [
    "# preprocess the images "
   ]
  },
  {
   "cell_type": "code",
   "execution_count": null,
   "id": "ff06fa70-6125-40d7-98ae-24c1a5cd82d8",
   "metadata": {},
   "outputs": [],
   "source": [
    "\n",
    "# as ANN can accept only 10 data, reshape images  from 2d to 1d\n",
    "Xm_train = x_train.reshape((60000, 784))\n",
    "Xm_test = x_test.reshape((10000,784))\n",
    "print(Xm_train.shape, Xm_test.shape)\n",
    "\n",
    "#normalizing all the images to 0 to 1.\n",
    "Xm_train=Xm_train/255\n",
    "Xm_test=Xm_test/255"
   ]
  },
  {
   "cell_type": "markdown",
   "id": "4bc15ece-6c8a-4ef1-a7db-3dbba62bcaac",
   "metadata": {},
   "source": [
    "# Encode the label "
   ]
  },
  {
   "cell_type": "code",
   "execution_count": null,
   "id": "f432dcc2-d4f1-467e-abf4-0e27de204d36",
   "metadata": {},
   "outputs": [],
   "source": [
    "from keras.utils import to_categorical\n",
    "Ymtrain = to_categorical(y_train)\n",
    "ymtest = to_categorical(y_test)"
   ]
  },
  {
   "cell_type": "code",
   "execution_count": null,
   "id": "5b6066eb-789e-4e45-9791-400e6c5e8b73",
   "metadata": {},
   "outputs": [],
   "source": [
    "print(y_train[0:3])\n",
    "print(Ymtrain[0:3])"
   ]
  },
  {
   "cell_type": "markdown",
   "id": "22e8dcd5-26c3-4663-b253-46c76ff45b2c",
   "metadata": {},
   "source": [
    "# now build neural network architecture"
   ]
  },
  {
   "cell_type": "code",
   "execution_count": 4,
   "id": "25dab949-5fd0-4fa0-831a-2b3e937640b6",
   "metadata": {},
   "outputs": [
    {
     "ename": "NameError",
     "evalue": "name 'Sequential' is not defined",
     "output_type": "error",
     "traceback": [
      "\u001b[1;31m---------------------------------------------------------------------------\u001b[0m",
      "\u001b[1;31mNameError\u001b[0m                                 Traceback (most recent call last)",
      "Cell \u001b[1;32mIn[4], line 1\u001b[0m\n\u001b[1;32m----> 1\u001b[0m ANN_model \u001b[38;5;241m=\u001b[39m \u001b[43mSequential\u001b[49m()\n\u001b[0;32m      2\u001b[0m ANN_model\u001b[38;5;241m.\u001b[39madd(Dense(input_shape\u001b[38;5;241m=\u001b[39m[\u001b[38;5;241m784\u001b[39m],units\u001b[38;5;241m=\u001b[39m\u001b[38;5;241m256\u001b[39m,activation\u001b[38;5;241m=\u001b[39m\u001b[38;5;124m'\u001b[39m\u001b[38;5;124mrelu\u001b[39m\u001b[38;5;124m'\u001b[39m))\n\u001b[0;32m      3\u001b[0m ANN_model\u001b[38;5;241m.\u001b[39madd(Dense(units\u001b[38;5;241m=\u001b[39m\u001b[38;5;241m10\u001b[39m, activation\u001b[38;5;241m=\u001b[39m\u001b[38;5;124m'\u001b[39m\u001b[38;5;124msigmoid\u001b[39m\u001b[38;5;124m'\u001b[39m))\n",
      "\u001b[1;31mNameError\u001b[0m: name 'Sequential' is not defined"
     ]
    }
   ],
   "source": [
    "ANN_model = Sequential()\n",
    "ANN_model.add(Dense(input_shape=[784],units=256,activation='relu'))\n",
    "ANN_model.add(Dense(units=10, activation='sigmoid'))\n",
    "\n",
    "ANN_model.compile(optimizer='adam',loss='categorical_crossentropy',metrics=['accuracy'])\n",
    "ANN_model.summary()"
   ]
  },
  {
   "cell_type": "code",
   "execution_count": null,
   "id": "d52c658f-6f3a-4216-9b73-fea7f6d01d43",
   "metadata": {},
   "outputs": [],
   "source": [
    "ANN_model.fit(Xm_train,Ymtrain, epochs = 5)"
   ]
  },
  {
   "cell_type": "markdown",
   "id": "e5fb74c8-ed2e-4db8-a667-a51fdca15593",
   "metadata": {},
   "source": [
    "# Single imapre prediction. also called as sample test"
   ]
  },
  {
   "cell_type": "code",
   "execution_count": null,
   "id": "15bae511-9e2f-4129-af7e-7341c4656741",
   "metadata": {},
   "outputs": [],
   "source": [
    "plt.imshow(x_test[4000],cmap = 'Greens')\n",
    "plt.show()\n",
    "R = ANN_model.predict(Xm_test[4000:4001])\n",
    "print(f\"Probabiliteis {R}\")\n",
    "print(f\"The digit is: {np.argmax(R)}\")"
   ]
  },
  {
   "cell_type": "markdown",
   "id": "44b4c78e-6d0c-41c6-9cf5-f75ccf294065",
   "metadata": {},
   "source": [
    "# Model Save"
   ]
  },
  {
   "cell_type": "code",
   "execution_count": null,
   "id": "4ef9b53f-d6f5-49e8-a477-56cec01800e0",
   "metadata": {},
   "outputs": [],
   "source": [
    "ANN_model.save(\"handwritten_digit_ann_model_best.h5\") #saving with hdf5 format\n",
    "ANN_model.save(\"hadnwritten_digit_ann_model_best.keras\") # keras "
   ]
  }
 ],
 "metadata": {
  "kernelspec": {
   "display_name": "Python 3 (ipykernel)",
   "language": "python",
   "name": "python3"
  },
  "language_info": {
   "codemirror_mode": {
    "name": "ipython",
    "version": 3
   },
   "file_extension": ".py",
   "mimetype": "text/x-python",
   "name": "python",
   "nbconvert_exporter": "python",
   "pygments_lexer": "ipython3",
   "version": "3.12.2"
  }
 },
 "nbformat": 4,
 "nbformat_minor": 5
}
